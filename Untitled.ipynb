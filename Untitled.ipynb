{
 "cells": [
  {
   "cell_type": "code",
   "execution_count": 1,
   "id": "cfde1eb9-1c7f-44b8-8feb-33c10ae549fc",
   "metadata": {},
   "outputs": [],
   "source": [
    "import torch"
   ]
  },
  {
   "cell_type": "code",
   "execution_count": 33,
   "id": "d3e0d485-5a75-4b49-8bb4-43dad0b175d7",
   "metadata": {},
   "outputs": [],
   "source": [
    "is_causal = False\n",
    "L = 4\n",
    "S = 5"
   ]
  },
  {
   "cell_type": "code",
   "execution_count": 34,
   "id": "a6c4d7fd-a556-4e25-83c0-fce59436776a",
   "metadata": {},
   "outputs": [
    {
     "data": {
      "text/plain": [
       "tensor([[[[True, True, True, True, True]]],\n",
       "\n",
       "\n",
       "        [[[True, True, True, True, True]]],\n",
       "\n",
       "\n",
       "        [[[True, True, True, True, True]]],\n",
       "\n",
       "\n",
       "        [[[True, True, True, True, True]]]])"
      ]
     },
     "execution_count": 34,
     "metadata": {},
     "output_type": "execute_result"
    }
   ],
   "source": [
    "attn_mask0 = torch.ones(L, 1, 1, S, dtype=torch.bool)\n",
    "attn_mask0"
   ]
  },
  {
   "cell_type": "code",
   "execution_count": 35,
   "id": "adf7f5c7-2b6b-4a5e-8390-d3f70aa85eb7",
   "metadata": {},
   "outputs": [
    {
     "name": "stdout",
     "output_type": "stream",
     "text": [
      "torch.Size([4, 1, 1, 5])\n"
     ]
    },
    {
     "data": {
      "text/plain": [
       "tensor([[[[True, True, True, True, True]]],\n",
       "\n",
       "\n",
       "        [[[True, True, True, True, True]]],\n",
       "\n",
       "\n",
       "        [[[True, True, True, True, True]]],\n",
       "\n",
       "\n",
       "        [[[True, True, True, True, True]]]])"
      ]
     },
     "execution_count": 35,
     "metadata": {},
     "output_type": "execute_result"
    }
   ],
   "source": [
    "attn_mask = torch.ones(L, S, dtype=torch.bool).tril(diagonal=0) if is_causal else attn_mask0\n",
    "print(attn_mask.size())\n",
    "attn_mask"
   ]
  },
  {
   "cell_type": "code",
   "execution_count": 36,
   "id": "2632ecbf-d27f-40d5-9420-6758111b668f",
   "metadata": {},
   "outputs": [
    {
     "data": {
      "text/plain": [
       "tensor([[[[True, True, True, True, True]]],\n",
       "\n",
       "\n",
       "        [[[True, True, True, True, True]]],\n",
       "\n",
       "\n",
       "        [[[True, True, True, True, True]]],\n",
       "\n",
       "\n",
       "        [[[True, True, True, True, True]]]])"
      ]
     },
     "execution_count": 36,
     "metadata": {},
     "output_type": "execute_result"
    }
   ],
   "source": [
    "attn_mask = attn_mask.masked_fill(attn_mask == 0, -float('inf')) if attn_mask.dtype==torch.bool else attn_mask\n",
    "attn_mask"
   ]
  },
  {
   "cell_type": "code",
   "execution_count": 41,
   "id": "12c61565-38e9-4655-bd9d-3ab393bbad29",
   "metadata": {},
   "outputs": [
    {
     "ename": "NameError",
     "evalue": "name 'attn_mask1111' is not defined",
     "output_type": "error",
     "traceback": [
      "\u001b[1;31m---------------------------------------------------------------------------\u001b[0m",
      "\u001b[1;31mNameError\u001b[0m                                 Traceback (most recent call last)",
      "Cell \u001b[1;32mIn[41], line 1\u001b[0m\n\u001b[1;32m----> 1\u001b[0m \u001b[43mattn_mask1111\u001b[49m \u001b[38;5;28;01mif\u001b[39;00m attn_mask \u001b[38;5;129;01mis\u001b[39;00m \u001b[38;5;129;01mnot\u001b[39;00m \u001b[38;5;28;01mNone\u001b[39;00m \u001b[38;5;28;01melse\u001b[39;00m \u001b[38;5;124m\"\u001b[39m\u001b[38;5;124melese\u001b[39m\u001b[38;5;124m\"\u001b[39m\n",
      "\u001b[1;31mNameError\u001b[0m: name 'attn_mask1111' is not defined"
     ]
    }
   ],
   "source": [
    "attn_mask1111 if attn_mask is not None else \"elese\""
   ]
  },
  {
   "cell_type": "code",
   "execution_count": null,
   "id": "ae6e27ee-0c94-450b-afe2-0fbd392d6219",
   "metadata": {},
   "outputs": [],
   "source": []
  },
  {
   "cell_type": "code",
   "execution_count": null,
   "id": "58fe5663-0f02-49dd-a4bb-d6acf92405b9",
   "metadata": {},
   "outputs": [],
   "source": [
    "torch.nn.functional.scaled_dot_product_attention(, k, v, attn_mask=mask, dropout_p=self.dropout if self.training else 0, is_causal=is_causal == True)\n"
   ]
  }
 ],
 "metadata": {
  "kernelspec": {
   "display_name": "Python 3 (ipykernel)",
   "language": "python",
   "name": "python3"
  },
  "language_info": {
   "codemirror_mode": {
    "name": "ipython",
    "version": 3
   },
   "file_extension": ".py",
   "mimetype": "text/x-python",
   "name": "python",
   "nbconvert_exporter": "python",
   "pygments_lexer": "ipython3",
   "version": "3.11.2"
  }
 },
 "nbformat": 4,
 "nbformat_minor": 5
}
